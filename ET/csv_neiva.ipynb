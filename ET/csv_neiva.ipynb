{
 "cells": [
  {
   "cell_type": "code",
   "execution_count": 1,
   "id": "db974c1a",
   "metadata": {},
   "outputs": [
    {
     "name": "stdout",
     "output_type": "stream",
     "text": [
      "✅ Archivo limpio guardado en: ../datos_limpios/datos_limpios_neiva_2024.csv\n"
     ]
    }
   ],
   "source": [
    "import pandas as pd\n",
    "import numpy as np\n",
    "import os\n",
    "from datetime import datetime\n",
    "\n",
    "# Cargar archivo CSV original\n",
    "df = pd.read_csv(\"../datos_crudos/Neiva-co.csv\")\n",
    "\n",
    "# Renombrar columnas\n",
    "df.rename(columns={\n",
    "    \"date\": \"Date\", \"tmax\": \"Tmax\", \"tmin\": \"Tmin\", \"tavg\": \"Tavg\",\n",
    "    \"prcp\": \"Prcp\", \"wspd\": \"Wspd\", \"wdir\": \"Wdir\"\n",
    "}, inplace=True)\n",
    "\n",
    "# Convertir columnas numéricas y rellenar vacíos con media redondeada\n",
    "for col in [\"Tmax\", \"Tmin\", \"Tavg\", \"Prcp\", \"Wspd\"]:\n",
    "    df[col] = pd.to_numeric(df[col], errors=\"coerce\")\n",
    "    df[col].fillna(round(df[col].mean(), 1),)\n",
    "    df[col] = df[col].round(1)\n",
    "\n",
    "# Convertir fecha a formato YYYY-MM-DD\n",
    "df[\"Date\"] = pd.to_datetime(df[\"Date\"]).dt.date\n",
    "\n",
    "# Convertir velocidad del viento de m/s a km/h\n",
    "df[\"Wspd\"] = (df[\"Wspd\"] * 3.6).round(1)\n",
    "\n",
    "# Asignar dirección del viento según fecha (Sur o Este)\n",
    "def direccion_viento_neiva(fecha):\n",
    "    md = (fecha.month, fecha.day)\n",
    "    if (3, 24) <= md <= (10, 11):\n",
    "        return \"Sur\"\n",
    "    else:\n",
    "        return \"Este\"\n",
    "\n",
    "df[\"Wdir\"] = df[\"Date\"].apply(direccion_viento_neiva)\n",
    "\n",
    "# Agregar columnas fijas\n",
    "df[\"Estacion\"] = \"Neiva\"\n",
    "df[\"Provincia\"] = \"Huila\"\n",
    "df[\"Pais\"] = \"Colombia\"\n",
    "\n",
    "# Eliminar columnas irrelevantes si existen\n",
    "df.drop(columns=[\"snow\", \"wpgt\", \"pres\", \"tsun\"], inplace=True, errors=\"ignore\")\n",
    "\n",
    "# Reordenar columnas\n",
    "df = df[[\"Date\", \"Tmax\", \"Tmin\", \"Tavg\", \"Prcp\", \"Wspd\", \"Wdir\", \"Estacion\", \"Provincia\", \"Pais\"]]\n",
    "\n",
    "# Guardar archivo limpio\n",
    "salida = \"../datos_limpios/datos_limpios_neiva_2024.csv\"\n",
    "os.makedirs(os.path.dirname(salida), exist_ok=True)\n",
    "df.to_csv(salida, index=False, encoding=\"utf-8\")\n",
    "\n",
    "print(f\"✅ Archivo limpio guardado en: {salida}\")\n"
   ]
  }
 ],
 "metadata": {
  "kernelspec": {
   "display_name": "Python 3",
   "language": "python",
   "name": "python3"
  },
  "language_info": {
   "codemirror_mode": {
    "name": "ipython",
    "version": 3
   },
   "file_extension": ".py",
   "mimetype": "text/x-python",
   "name": "python",
   "nbconvert_exporter": "python",
   "pygments_lexer": "ipython3",
   "version": "3.12.6"
  }
 },
 "nbformat": 4,
 "nbformat_minor": 5
}
