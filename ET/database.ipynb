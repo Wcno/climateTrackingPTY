{
 "cells": [
  {
   "cell_type": "code",
   "execution_count": 1,
   "id": "c5924166",
   "metadata": {},
   "outputs": [],
   "source": [
    "import sqlite3\n",
    "import pandas as pd\n",
    "from datetime import datetime"
   ]
  },
  {
   "cell_type": "code",
   "execution_count": 3,
   "id": "70120b69",
   "metadata": {},
   "outputs": [],
   "source": [
    "# Connect to SQLite DB\n",
    "conn = sqlite3.connect(\"../weather.db\")\n",
    "cursor = conn.cursor()"
   ]
  },
  {
   "cell_type": "code",
   "execution_count": 4,
   "id": "54a38841",
   "metadata": {},
   "outputs": [
    {
     "data": {
      "text/plain": [
       "<sqlite3.Cursor at 0x7f1b3cc5d840>"
      ]
     },
     "execution_count": 4,
     "metadata": {},
     "output_type": "execute_result"
    }
   ],
   "source": [
    "# Create tables with foreign keys and dimensions\n",
    "cursor.executescript(\"\"\"\n",
    "-- Dimension: Time\n",
    "CREATE TABLE IF NOT EXISTS dim_tiempo (\n",
    "    fecha_id TEXT PRIMARY KEY,\n",
    "    fecha TEXT,\n",
    "    año INTEGER,\n",
    "    mes INTEGER,\n",
    "    día INTEGER,\n",
    "    nombre_mes TEXT,\n",
    "    trimestre INTEGER\n",
    ");\n",
    "\n",
    "-- Dimension: Station\n",
    "CREATE TABLE IF NOT EXISTS dim_estacion (\n",
    "    estacion_id INTEGER PRIMARY KEY AUTOINCREMENT,\n",
    "    nombre_estacion TEXT,\n",
    "    provincia TEXT,\n",
    "    latitud REAL,\n",
    "    longitud REAL,\n",
    "    UNIQUE(nombre_estacion, provincia)\n",
    ");\n",
    "\n",
    "-- Dimension: Wind Direction\n",
    "CREATE TABLE IF NOT EXISTS dim_direccion_viento (\n",
    "    wdir_id INTEGER PRIMARY KEY AUTOINCREMENT,\n",
    "    direccion_cardinal TEXT UNIQUE\n",
    ");\n",
    "\n",
    "-- Fact Table\n",
    "CREATE TABLE IF NOT EXISTS hechos_clima (\n",
    "    id_hecho INTEGER PRIMARY KEY AUTOINCREMENT,\n",
    "    fecha_id TEXT,\n",
    "    estacion_id INTEGER,\n",
    "    wdir_id INTEGER,\n",
    "    tmax REAL,\n",
    "    tmin REAL,\n",
    "    tavg REAL,\n",
    "    prcp REAL,\n",
    "    wspd REAL,\n",
    "    FOREIGN KEY (fecha_id) REFERENCES dim_tiempo(fecha_id),\n",
    "    FOREIGN KEY (estacion_id) REFERENCES dim_estacion(estacion_id),\n",
    "    FOREIGN KEY (wdir_id) REFERENCES dim_direccion_viento(wdir_id)\n",
    ");\n",
    "\n",
    "-- Indexes for optimization\n",
    "CREATE INDEX IF NOT EXISTS idx_hechos_fecha_id ON hechos_clima(fecha_id);\n",
    "CREATE INDEX IF NOT EXISTS idx_hechos_estacion_id ON hechos_clima(estacion_id);\n",
    "CREATE INDEX IF NOT EXISTS idx_hechos_wdir_id ON hechos_clima(wdir_id);\n",
    "\"\"\")"
   ]
  },
  {
   "cell_type": "code",
   "execution_count": 5,
   "id": "8a82c71b",
   "metadata": {},
   "outputs": [],
   "source": [
    "def insert_dim_tiempo(row):\n",
    "    fecha = datetime.strptime(row[\"Date\"], \"%Y-%m-%d\")\n",
    "    fecha_id = row[\"Date\"]\n",
    "    año = fecha.year\n",
    "    mes = fecha.month\n",
    "    día = fecha.day\n",
    "    nombre_mes = fecha.strftime(\"%B\")\n",
    "    trimestre = (mes - 1) // 3 + 1\n",
    "\n",
    "    cursor.execute(\"\"\"\n",
    "    INSERT OR IGNORE INTO dim_tiempo (fecha_id, fecha, año, mes, día, nombre_mes, trimestre)\n",
    "    VALUES (?, ?, ?, ?, ?, ?, ?)\n",
    "    \"\"\", (fecha_id, row[\"Date\"], año, mes, día, nombre_mes, trimestre))\n",
    "\n",
    "    return fecha_id"
   ]
  },
  {
   "cell_type": "code",
   "execution_count": 11,
   "id": "968b337b",
   "metadata": {},
   "outputs": [],
   "source": [
    "def insert_dim_estacion(nombre, provincia):\n",
    "    cursor.execute(\"\"\"\n",
    "    INSERT OR IGNORE INTO dim_estacion (nombre_estacion, provincia, latitud, longitud)\n",
    "    VALUES (?, ?, NULL, NULL)\n",
    "    \"\"\", (nombre, provincia))\n",
    "    cursor.execute(\"\"\"\n",
    "    SELECT estacion_id FROM dim_estacion WHERE nombre_estacion = ? AND provincia = ?\n",
    "    \"\"\", (nombre, provincia))\n",
    "    return cursor.fetchone()[0]"
   ]
  },
  {
   "cell_type": "code",
   "execution_count": 12,
   "id": "20eb8948",
   "metadata": {},
   "outputs": [],
   "source": [
    "def insert_dim_direccion_viento(direccion):\n",
    "    cursor.execute(\"\"\"\n",
    "    INSERT OR IGNORE INTO dim_direccion_viento (direccion_cardinal)\n",
    "    VALUES (?)\n",
    "    \"\"\", (direccion,))\n",
    "    cursor.execute(\"\"\"\n",
    "    SELECT wdir_id FROM dim_direccion_viento WHERE direccion_cardinal = ?\n",
    "    \"\"\", (direccion,))\n",
    "    return cursor.fetchone()[0]"
   ]
  },
  {
   "cell_type": "code",
   "execution_count": 10,
   "id": "8c5872b8",
   "metadata": {},
   "outputs": [
    {
     "name": "stdout",
     "output_type": "stream",
     "text": [
      "           Date  Tmax  Tmin  Tavg  Prcp  Wspd         Wdir Estacion Provincia\n",
      "0    2024-01-01  34.4  23.0  28.7   0.0  43.2        Norte    David   Chirqui\n",
      "1    2024-01-02  34.4  23.0  28.7   0.0  43.2        Norte    David   Chirqui\n",
      "2    2024-01-03  33.2  22.0  27.6   0.0  28.8          Sur    David   Chirqui\n",
      "3    2024-01-04  34.0  22.6  28.3   0.0  30.2  Nor-Noreste    David   Chirqui\n",
      "4    2024-01-05  34.2  22.6  28.4   0.0  34.9          Sur    David   Chirqui\n",
      "..          ...   ...   ...   ...   ...   ...          ...      ...       ...\n",
      "361  2024-12-27  28.0  24.0  26.0   0.7  13.4     Suroeste    David   Chirqui\n",
      "362  2024-12-28  25.2  24.0  24.6  10.4   7.0          Sur    David   Chirqui\n",
      "363  2024-12-29  27.0  23.8  25.4  10.3  12.9        Norte    David   Chirqui\n",
      "364  2024-12-30  29.2  21.6  25.4   0.0  22.1     Suroeste    David   Chirqui\n",
      "365  2024-12-31  30.8  22.4  26.6   0.0  25.6          Sur    David   Chirqui\n",
      "\n",
      "[366 rows x 9 columns]\n"
     ]
    }
   ],
   "source": [
    "# Load CSV\n",
    "csv_path = '../datos_limpios/datos_climaticos_chiriqui_2024.csv'  # Replace with the path to your CSV\n",
    "df = pd.read_csv(csv_path)\n",
    "print(df)"
   ]
  },
  {
   "cell_type": "code",
   "execution_count": null,
   "id": "14c9ede5",
   "metadata": {},
   "outputs": [],
   "source": [
    "# Insert data\n",
    "for _, row in df.iterrows():\n",
    "    fecha_id = insert_dim_tiempo(row)\n",
    "    estacion_id = insert_dim_estacion(row[\"Estacion\"], row[\"Provincia\"])\n",
    "    wdir_id = insert_dim_direccion_viento(row[\"Wdir\"])\n",
    "\n",
    "    cursor.execute(\"\"\"\n",
    "    INSERT INTO hechos_clima (\n",
    "        fecha_id, estacion_id, wdir_id, tmax, tmin, tavg, prcp, wspd\n",
    "    ) VALUES (?, ?, ?, ?, ?, ?, ?, ?)\n",
    "    \"\"\", (\n",
    "        fecha_id,\n",
    "        estacion_id,\n",
    "        wdir_id,\n",
    "        row[\"Tmax\"],\n",
    "        row[\"Tmin\"],\n",
    "        row[\"Tavg\"],\n",
    "        row[\"Prcp\"],\n",
    "        row[\"Wspd\"]\n",
    "    ))\n",
    "\n",
    "# Commit changes and close connection\n",
    "conn.commit()\n",
    "conn.close()"
   ]
  }
 ],
 "metadata": {
  "kernelspec": {
   "display_name": "information",
   "language": "python",
   "name": "information"
  },
  "language_info": {
   "codemirror_mode": {
    "name": "ipython",
    "version": 3
   },
   "file_extension": ".py",
   "mimetype": "text/x-python",
   "name": "python",
   "nbconvert_exporter": "python",
   "pygments_lexer": "ipython3",
   "version": "3.13.3"
  }
 },
 "nbformat": 4,
 "nbformat_minor": 5
}
