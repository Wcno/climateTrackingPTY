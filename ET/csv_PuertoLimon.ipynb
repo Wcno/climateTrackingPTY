{
 "cells": [
  {
   "cell_type": "code",
   "execution_count": 1,
   "id": "435730a3",
   "metadata": {},
   "outputs": [
    {
     "name": "stdout",
     "output_type": "stream",
     "text": [
      "✅ Archivo limpio con dirección del viento guardado en: ../datos_limpios/datos_limpios_puerto_limon_2024.csv\n"
     ]
    },
    {
     "name": "stderr",
     "output_type": "stream",
     "text": [
      "C:\\Users\\danie\\AppData\\Local\\Temp\\ipykernel_4892\\3527655595.py:19: FutureWarning: A value is trying to be set on a copy of a DataFrame or Series through chained assignment using an inplace method.\n",
      "The behavior will change in pandas 3.0. This inplace method will never work because the intermediate object on which we are setting values always behaves as a copy.\n",
      "\n",
      "For example, when doing 'df[col].method(value, inplace=True)', try using 'df.method({col: value}, inplace=True)' or df[col] = df[col].method(value) instead, to perform the operation inplace on the original object.\n",
      "\n",
      "\n",
      "  df[col].fillna(df[col].mean(), inplace=True)\n"
     ]
    }
   ],
   "source": [
    "import pandas as pd\n",
    "import numpy as np\n",
    "import os\n",
    "from datetime import datetime\n",
    "\n",
    "# Cargar archivo\n",
    "ruta_csv = \"../datos_crudos/PuertoLimon-cr.csv\"\n",
    "df = pd.read_csv(ruta_csv)\n",
    "\n",
    "# Renombrar columnas\n",
    "df.rename(columns={\n",
    "    \"date\": \"Date\", \"tmax\": \"Tmax\", \"tmin\": \"Tmin\", \"tavg\": \"Tavg\",\n",
    "    \"prcp\": \"Prcp\", \"wspd\": \"Wspd\", \"wdir\": \"Wdir\"\n",
    "}, inplace=True)\n",
    "\n",
    "# Convertir columnas numéricas y limitar decimales\n",
    "for col in [\"Tmax\", \"Tmin\", \"Tavg\", \"Prcp\", \"Wspd\"]:\n",
    "    df[col] = pd.to_numeric(df[col], errors='coerce')\n",
    "    df[col].fillna(df[col].mean(), inplace=True)\n",
    "    df[col] = df[col].round(1)\n",
    "\n",
    "# Convertir fecha\n",
    "df[\"Date\"] = pd.to_datetime(df[\"Date\"]).dt.date\n",
    "\n",
    "# Convertir Wspd a km/h\n",
    "df[\"Wspd\"] = (df[\"Wspd\"] * 3.6).round(1)\n",
    "\n",
    "# Asignar dirección del viento: siempre \"Norte\"\n",
    "df[\"Wdir\"] = \"Norte\"\n",
    "\n",
    "# Agregar columnas fijas\n",
    "df[\"Estacion\"] = \"Puerto Limón\"\n",
    "df[\"Provincia\"] = \"Limón\"\n",
    "df[\"Pais\"] = \"Costa Rica\"\n",
    "\n",
    "# Eliminar columnas irrelevantes si existen\n",
    "df.drop(columns=[\"snow\", \"wpgt\", \"pres\", \"tsun\"], inplace=True, errors='ignore')\n",
    "\n",
    "# Reordenar columnas\n",
    "df = df[[\"Date\", \"Tmax\", \"Tmin\", \"Tavg\", \"Prcp\", \"Wspd\", \"Wdir\", \"Estacion\", \"Provincia\", \"Pais\"]]\n",
    "\n",
    "# Guardar\n",
    "salida = \"../datos_limpios/datos_limpios_puerto_limon_2024.csv\"\n",
    "os.makedirs(os.path.dirname(salida), exist_ok=True)\n",
    "df.to_csv(salida, index=False, encoding=\"utf-8\")\n",
    "\n",
    "print(f\"✅ Archivo limpio con dirección del viento guardado en: {salida}\")\n"
   ]
  }
 ],
 "metadata": {
  "kernelspec": {
   "display_name": "Python 3",
   "language": "python",
   "name": "python3"
  },
  "language_info": {
   "codemirror_mode": {
    "name": "ipython",
    "version": 3
   },
   "file_extension": ".py",
   "mimetype": "text/x-python",
   "name": "python",
   "nbconvert_exporter": "python",
   "pygments_lexer": "ipython3",
   "version": "3.12.6"
  }
 },
 "nbformat": 4,
 "nbformat_minor": 5
}
