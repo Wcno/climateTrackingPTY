{
 "cells": [
  {
   "cell_type": "code",
   "execution_count": 6,
   "id": "47bd7777",
   "metadata": {},
   "outputs": [],
   "source": [
    "from meteostat import Point, Daily\n",
    "from datetime import datetime\n",
    "import pandas as pd\n",
    "\n",
    "# Colón coordinates\n",
    "bocas_del_toro = Point(9.3400, -82.2400, 11)\n",
    "\n",
    "start = datetime(2024, 1, 1)\n",
    "end = datetime(2024, 12, 31)\n",
    "\n",
    "data = Daily(bocas_del_toro, start, end)\n",
    "data = data.fetch()\n",
    "\n",
    "# Save to JSON\n",
    "data.reset_index().to_json(\"../datos_crudos/datos_bocas_del_toro_crudos.json\", orient=\"records\", date_format=\"iso\")\n"
   ]
  }
 ],
 "metadata": {
  "kernelspec": {
   "display_name": "information",
   "language": "python",
   "name": "information"
  },
  "language_info": {
   "codemirror_mode": {
    "name": "ipython",
    "version": 3
   },
   "file_extension": ".py",
   "mimetype": "text/x-python",
   "name": "python",
   "nbconvert_exporter": "python",
   "pygments_lexer": "ipython3",
   "version": "3.13.3"
  }
 },
 "nbformat": 4,
 "nbformat_minor": 5
}
