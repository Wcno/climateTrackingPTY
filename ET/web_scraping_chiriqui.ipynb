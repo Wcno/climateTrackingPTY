{
 "cells": [
  {
   "cell_type": "markdown",
   "id": "0a2b1ae0",
   "metadata": {},
   "source": [
    "webscraping from https://www.imhpa.gob.pa/es/datos-diarios?estacion=1&mes=1&ano=2025 Tocumen enero 2024"
   ]
  },
  {
   "cell_type": "code",
   "execution_count": 2,
   "id": "ba6df826",
   "metadata": {},
   "outputs": [
    {
     "name": "stdout",
     "output_type": "stream",
     "text": [
      "[Error] Fallo en el mes 10: ('Connection aborted.', ConnectionResetError(104, 'Connection reset by peer'))\n",
      "Datos recolectados exitosamente.\n"
     ]
    }
   ],
   "source": [
    "import requests\n",
    "from bs4 import BeautifulSoup\n",
    "import pandas as pd\n",
    "import time\n",
    "\n",
    "headers = {\"User-Agent\": \"Mozilla/5.0\"}\n",
    "columnas_finales = [\n",
    "    \"Día\",\n",
    "    \"Temperatura Máxima (°C)\",\n",
    "    \"Temperatura Mínima (°C)\",\n",
    "    \"Temperatura Promedio (°C)\",\n",
    "    \"Lluvia Mes Actual (mm)\",\n",
    "    \"Lluvia Acumulada(mm)\",\n",
    "    \"Lluvia Promedio (mm)\",\n",
    "    \"Lluvia Acumulada Promedio Histórico (mm)\",\n",
    "    \"Viento Velocidad Máxima (Km/h)\",\n",
    "    \"Viento Dirección Máxima (°)\",\n",
    "    \"Viento Hora Máxima\",\n",
    "    \"Dirección del Viento\"\n",
    "]\n",
    "\n",
    "data_total = []\n",
    "for mes in range(1, 13):\n",
    "    url = f\"https://www.imhpa.gob.pa/es/datos-diarios?estacion=6&mes={mes}&ano=2024\"\n",
    "    try:\n",
    "        response = requests.get(url, headers=headers)\n",
    "        response.raise_for_status()\n",
    "        soup = BeautifulSoup(response.content, 'html.parser')\n",
    "\n",
    "        tabla = soup.find('table', {'class': 'table'})\n",
    "        if not tabla:\n",
    "            print(f\"[Aviso] Tabla no encontrada para el mes {mes}\")\n",
    "            continue\n",
    "\n",
    "        filas = tabla.find_all('tr')\n",
    "        data = []\n",
    "\n",
    "        for fila in filas:\n",
    "            columnas = fila.find_all(['th', 'td'])\n",
    "            fila_texto = [col.text.strip() for col in columnas]\n",
    "            if fila_texto:\n",
    "                data.append(fila_texto)\n",
    "\n",
    "        df = pd.DataFrame(data)\n",
    "        df.columns = columnas_finales\n",
    "        df = df.iloc[2:].reset_index(drop=True)\n",
    "\n",
    "        # Convertir y limpiar columna Día\n",
    "        df[\"Día\"] = pd.to_numeric(df[\"Día\"], errors='coerce')\n",
    "        df = df.dropna(subset=[\"Día\"])\n",
    "        df = df[df[\"Día\"].between(1, 31)].reset_index(drop=True)\n",
    "\n",
    "        # Añadir Año y Mes\n",
    "        df[\"Año\"] = 2024\n",
    "        df[\"Mes\"] = mes\n",
    "\n",
    "        # Crear columna Fecha\n",
    "        df[\"Día\"] = df[\"Día\"].astype(int)\n",
    "        df_fecha = df.rename(columns={\"Año\": \"year\", \"Mes\": \"month\", \"Día\": \"day\"})\n",
    "        df[\"Fecha\"] = pd.to_datetime(df_fecha[[\"year\", \"month\", \"day\"]], errors='raise')\n",
    "\n",
    "        columnas_ordenadas = [\"Fecha\"] + [col for col in df.columns if col != \"Fecha\"]\n",
    "        df = df[columnas_ordenadas]\n",
    "\n",
    "        data_total.append(df)\n",
    "        time.sleep(1)\n",
    "        \n",
    "    except Exception as e:\n",
    "        print(f\"[Error] Fallo en el mes {mes}: {e}\")\n",
    "        continue\n",
    "\n",
    "if not data_total:\n",
    "    raise ValueError(\"No se pudo recolectar ningún mes. Revisa la estructura del sitio o la conexión.\")\n",
    "\n",
    "\n",
    "df_chiriqui = pd.concat(data_total, ignore_index=True)\n",
    "print(\"Datos recolectados exitosamente.\")\n",
    "df_chiriqui.to_csv(\"../datos_crudos/datos_chiriqui_crudos_2024.csv\", index=False)\n"
   ]
  },
  {
   "cell_type": "markdown",
   "id": "365de4dd",
   "metadata": {},
   "source": [
    "Limpieza de datos"
   ]
  },
  {
   "cell_type": "code",
   "execution_count": 3,
   "id": "c09f49da",
   "metadata": {},
   "outputs": [],
   "source": [
    "df_chiriqui = df_chiriqui.drop(columns=[\"Día\",\"Año\", \"Mes\"], errors='ignore')\n"
   ]
  },
  {
   "cell_type": "code",
   "execution_count": 4,
   "id": "077b1707",
   "metadata": {},
   "outputs": [],
   "source": [
    "import numpy as np\n",
    "df_chiriqui.replace([\"\", \"-\", \"NA\", \"N/A\", \"n/a\"], np.nan, inplace=True)\n"
   ]
  },
  {
   "cell_type": "code",
   "execution_count": 5,
   "id": "963da507",
   "metadata": {},
   "outputs": [
    {
     "name": "stdout",
     "output_type": "stream",
     "text": [
      "Valores faltantes por columna:\n",
      "Temperatura Máxima (°C)           19\n",
      "Temperatura Mínima (°C)           20\n",
      "Temperatura Promedio (°C)         21\n",
      "Lluvia Mes Actual (mm)            17\n",
      "Lluvia Acumulada(mm)              17\n",
      "Viento Velocidad Máxima (Km/h)    38\n",
      "Viento Dirección Máxima (°)       38\n",
      "Viento Hora Máxima                38\n",
      "Dirección del Viento              37\n",
      "dtype: int64\n",
      "\n",
      "Porcentaje de valores faltantes:\n",
      "Temperatura Máxima (°C)            5.67\n",
      "Temperatura Mínima (°C)            5.97\n",
      "Temperatura Promedio (°C)          6.27\n",
      "Lluvia Mes Actual (mm)             5.07\n",
      "Lluvia Acumulada(mm)               5.07\n",
      "Viento Velocidad Máxima (Km/h)    11.34\n",
      "Viento Dirección Máxima (°)       11.34\n",
      "Viento Hora Máxima                11.34\n",
      "Dirección del Viento              11.04\n",
      "dtype: float64\n"
     ]
    }
   ],
   "source": [
    "# Porcentaje de valores faltantes\n",
    "faltantes = df_chiriqui.isna().sum()\n",
    "print(\"Valores faltantes por columna:\")\n",
    "print(faltantes[faltantes > 0])\n",
    "porcentaje_faltantes = (df_chiriqui.isna().sum() / len(df_chiriqui)) * 100\n",
    "print(\"\\nPorcentaje de valores faltantes:\")\n",
    "print(porcentaje_faltantes[porcentaje_faltantes > 0].round(2))\n"
   ]
  },
  {
   "cell_type": "code",
   "execution_count": 6,
   "id": "6ebb7287",
   "metadata": {},
   "outputs": [],
   "source": [
    "import numpy as np\n",
    "\n",
    "df_chiriqui.replace([\"\", \"-\", \"NA\", \"N/A\", \"n/a\"], np.nan, inplace=True)\n",
    "\n",
    "columnas_numericas = [\n",
    "    \"Temperatura Máxima (°C)\",\n",
    "    \"Temperatura Mínima (°C)\",\n",
    "    \"Temperatura Promedio (°C)\",\n",
    "    \"Lluvia Mes Actual (mm)\",\n",
    "    \"Lluvia Acumulada(mm)\",\n",
    "    \"Lluvia Promedio (mm)\",\n",
    "    \"Lluvia Acumulada Promedio Histórico (mm)\",\n",
    "    \"Viento Velocidad Máxima (Km/h)\",\n",
    "    \"Viento Dirección Máxima (°)\"\n",
    "]\n",
    "\n",
    "for col in columnas_numericas:\n",
    "    df_chiriqui[col] = pd.to_numeric(df_chiriqui[col], errors='coerce')\n",
    "\n",
    "# Imputar temperaturas con la media\n",
    "for col in [\"Temperatura Máxima (°C)\", \"Temperatura Mínima (°C)\", \"Temperatura Promedio (°C)\"]:\n",
    "    df_chiriqui[col] = df_chiriqui[col].fillna(df_chiriqui[col].mean())\n",
    "\n",
    "# Imputar precipitaciones con 0 = no llovió)\n",
    "for col in [\"Lluvia Mes Actual (mm)\", \"Lluvia Acumulada(mm)\"]:\n",
    "    df_chiriqui[col] = df_chiriqui[col].fillna(0)\n",
    "\n",
    "# Imputar viento con la media \n",
    "for col in [\"Viento Velocidad Máxima (Km/h)\", \"Viento Dirección Máxima (°)\"]:\n",
    "    df_chiriqui[col] = df_chiriqui[col].fillna(df_chiriqui[col].mean())\n",
    "\n",
    "# Imputar texto faltante con la moda (valor más frecuente)\n",
    "for col in [\"Dirección del Viento\", \"Viento Hora Máxima\"]:\n",
    "    if df_chiriqui[col].isna().sum() > 0:\n",
    "        moda = df_chiriqui[col].mode()\n",
    "        if not moda.empty:\n",
    "            df_chiriqui[col] = df_chiriqui[col].fillna(moda[0])\n",
    "\n",
    "columnas_numericas = df_chiriqui.select_dtypes(include=[\"number\"]).columns\n",
    "df_chiriqui[columnas_numericas] = df_chiriqui[columnas_numericas].round(1)\n",
    "\n"
   ]
  },
  {
   "cell_type": "markdown",
   "id": "33bb6eeb",
   "metadata": {},
   "source": [
    "Normalizar los datos de temperatura a misma columna\n",
    "\n",
    "```python"
   ]
  },
  {
   "cell_type": "code",
   "execution_count": 7,
   "id": "1a2fddad",
   "metadata": {},
   "outputs": [],
   "source": [
    "import pandas as pd\n",
    "\n",
    "columnas_estandar= {\n",
    "    'Fecha': 'Date',\n",
    "    'Temperatura Máxima (°C)': 'Tmax',\n",
    "    'Temperatura Mínima (°C)': 'Tmin',\n",
    "    'Temperatura Promedio (°C)': 'Tavg',\n",
    "    'Lluvia Mes Actual (mm)': 'Prcp',\n",
    "    'Viento Velocidad Máxima (Km/h)': 'Wspd',\n",
    "    'Dirección del Viento': 'Wdir'\n",
    "}\n",
    "\n",
    "# Renombrar columnas y eliminar las demás\n",
    "df_chiriqui= df_chiriqui.rename(columns=columnas_estandar)  \n",
    "df_chiriqui = df_chiriqui[list(columnas_estandar.values())] \n",
    "df_chiriqui[\"Estacion\"] = \"David\"\n",
    "df_chiriqui[\"Provincia\"] = \"Chiriquí\"\n"
   ]
  },
  {
   "cell_type": "markdown",
   "id": "3e2a83c5",
   "metadata": {},
   "source": [
    "Pasar a CSV"
   ]
  },
  {
   "cell_type": "code",
   "execution_count": 8,
   "id": "ffb1016d",
   "metadata": {},
   "outputs": [
    {
     "name": "stdout",
     "output_type": "stream",
     "text": [
      "        Date  Tmax  Tmin  Tavg  Prcp  Wspd         Wdir Estacion Provincia\n",
      "0 2024-01-01  34.4  23.0  28.7   0.0  43.2        Norte    David  Chiriquí\n",
      "1 2024-01-02  34.4  23.0  28.7   0.0  43.2        Norte    David  Chiriquí\n",
      "2 2024-01-03  33.2  22.0  27.6   0.0  28.8          Sur    David  Chiriquí\n",
      "3 2024-01-04  34.0  22.6  28.3   0.0  30.2  Nor-Noreste    David  Chiriquí\n",
      "4 2024-01-05  34.2  22.6  28.4   0.0  34.9          Sur    David  Chiriquí\n"
     ]
    }
   ],
   "source": [
    "print(df_chiriqui.head())"
   ]
  },
  {
   "cell_type": "code",
   "execution_count": null,
   "id": "c6af2f62",
   "metadata": {},
   "outputs": [],
   "source": [
    "# Guardar el DataFrame en un archivo CSV\n",
    "df_chiriqui.to_csv(\"../datos_limpios/datos_limpios_chiriqui_2024.csv\", index=False)"
   ]
  }
 ],
 "metadata": {
  "kernelspec": {
   "display_name": "Python 3",
   "language": "python",
   "name": "python3"
  },
  "language_info": {
   "codemirror_mode": {
    "name": "ipython",
    "version": 3
   },
   "file_extension": ".py",
   "mimetype": "text/x-python",
   "name": "python",
   "nbconvert_exporter": "python",
   "pygments_lexer": "ipython3",
   "version": "3.13.3"
  }
 },
 "nbformat": 4,
 "nbformat_minor": 5
}
