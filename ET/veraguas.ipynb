{
 "cells": [
  {
   "cell_type": "code",
   "execution_count": null,
   "id": "f85f02d3",
   "metadata": {},
   "outputs": [],
   "source": [
    "from meteostat import Point, Daily\n",
    "from datetime import datetime\n",
    "import pandas as pd\n",
    "\n",
    "# Coordenadas de Santiago, Panamá\n",
    "santiago = Point(8.1000, -80.9833, 90)\n",
    "\n",
    "# Rango de fechas: año 2024\n",
    "start = datetime(2024, 1, 1)\n",
    "end = datetime(2024, 12, 31)\n",
    "\n",
    "# Obtener los datos diarios\n",
    "data = Daily(santiago, start, end)\n",
    "data = data.fetch()\n",
    "\n",
    "# Guardar directamente como XML en la ruta deseada\n",
    "data.reset_index().to_xml(\"../datos_crudos/datos_santiago_crudos_2024.xml\", \n",
    "                          root_name=\"clima_santiago_2024\", \n",
    "                          row_name=\"registro\", \n",
    "                          index=False)\n"
   ]
  }
 ],
 "metadata": {
  "kernelspec": {
   "display_name": "Python 3",
   "language": "python",
   "name": "python3"
  },
  "language_info": {
   "codemirror_mode": {
    "name": "ipython",
    "version": 3
   },
   "file_extension": ".py",
   "mimetype": "text/x-python",
   "name": "python",
   "nbconvert_exporter": "python",
   "pygments_lexer": "ipython3",
   "version": "3.13.3"
  }
 },
 "nbformat": 4,
 "nbformat_minor": 5
}
