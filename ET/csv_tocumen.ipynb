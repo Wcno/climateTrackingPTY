{
 "cells": [
  {
   "cell_type": "code",
   "execution_count": null,
   "id": "ea1900d2",
   "metadata": {},
   "outputs": [
    {
     "name": "stdout",
     "output_type": "stream",
     "text": [
      "Archivo limpio guardado en: ../datos_limpios/datos_limpios_tocumen_20244.csv\n"
     ]
    }
   ],
   "source": [
    "import pandas as pd\n",
    "import numpy as np\n",
    "import os\n",
    "\n",
    "# Cargar archivo CSV crudo\n",
    "datosTocumenCrudos = pd.read_csv(\"../datos_crudos/datos_tocumen_crudos_2024.csv\")\n",
    "\n",
    "# Función para convertir grados a 8 puntos cardinales\n",
    "def gradosAPuntoCardinal(deg):\n",
    "    directions = [\n",
    "        'Norte', 'Noreste', 'Este', 'Sureste',\n",
    "        'Sur', 'Suroeste', 'Oeste', 'Noroeste'\n",
    "    ]\n",
    "    ix = int((deg + 22.5) / 45) % 8\n",
    "    return directions[ix]\n",
    "\n",
    "# Renombrar columnas para que coincidan con el formato limpio\n",
    "limpiezaTocumen = datosTocumenCrudos.rename(columns={\n",
    "    \"date\": \"Date\",\n",
    "    \"tmax\": \"Tmax\",\n",
    "    \"tmin\": \"Tmin\",\n",
    "    \"tavg\": \"Tavg\",\n",
    "    \"prcp\": \"Prcp\",\n",
    "    \"wspd\": \"Wspd\",\n",
    "    \"wdir\": \"Wdir\"\n",
    "})\n",
    "\n",
    "# Convertir fechas a formato YYYY-MM-DD\n",
    "limpiezaTocumen[\"Date\"] = pd.to_datetime(limpiezaTocumen[\"Date\"]).dt.date\n",
    "\n",
    "# Convertir velocidad del viento de m/s a km/h\n",
    "limpiezaTocumen[\"Wspd\"] = (limpiezaTocumen[\"Wspd\"] * 3.6).round(1)\n",
    "\n",
    "# Simplificar dirección del viento\n",
    "limpiezaTocumen[\"Wdir\"] = limpiezaTocumen[\"Wdir\"].apply(\n",
    "    lambda x: gradosAPuntoCardinal(x) if not pd.isnull(x) else np.nan\n",
    ")\n",
    "\n",
    "# Agregar columnas fijas\n",
    "limpiezaTocumen[\"Estacion\"] = \"Tocumen\"\n",
    "limpiezaTocumen[\"Provincia\"] = \"Panamá\"\n",
    "\n",
    "# Eliminar columnas irrelevantes\n",
    "limpiezaTocumen.drop(columns=[\"snow\", \"wpgt\", \"pres\", \"tsun\"], inplace=True)\n",
    "\n",
    "# Reordenar columnas al formato deseado\n",
    "limpiezaTocumen = limpiezaTocumen[[\n",
    "    \"Date\", \"Tmax\", \"Tmin\", \"Tavg\", \"Prcp\", \"Wspd\", \"Wdir\", \"Estacion\", \"Provincia\"\n",
    "]]\n",
    "\n",
    "destinoArchivoLimpio = \"../datos_limpios/datos_limpios_tocumen_2024.csv\"\n",
    "os.makedirs(os.path.dirname(destinoArchivoLimpio), exist_ok=True)\n",
    "\n",
    "# Guardar el archivo sin comillas, usando codificación UTF-8\n",
    "limpiezaTocumen.to_csv(\n",
    "    destinoArchivoLimpio,\n",
    "    index=False,\n",
    "    encoding=\"utf-8\"\n",
    ")\n",
    "\n",
    "print(f\"Archivo limpio guardado en: {destinoArchivoLimpio}\")\n"
   ]
  }
 ],
 "metadata": {
  "kernelspec": {
   "display_name": "Python 3",
   "language": "python",
   "name": "python3"
  },
  "language_info": {
   "codemirror_mode": {
    "name": "ipython",
    "version": 3
   },
   "file_extension": ".py",
   "mimetype": "text/x-python",
   "name": "python",
   "nbconvert_exporter": "python",
   "pygments_lexer": "ipython3",
   "version": "3.13.3"
  }
 },
 "nbformat": 4,
 "nbformat_minor": 5
}
