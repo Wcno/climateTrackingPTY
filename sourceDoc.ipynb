{
 "cells": [
  {
   "cell_type": "markdown",
   "id": "d1c2722b",
   "metadata": {},
   "source": [
    "# Adquisición y Procesamiento de Datos\n",
    "\n",
    "Aplicar técnicas de adquisición de datos desde distintas fuentes:\n",
    "\n",
    "- **JSON**\n",
    "- **XML**\n",
    "- **Excel**\n",
    "- **Scraping web**\n",
    "- **Base de datos relacional**\n",
    "\n",
    "El objetivo es procesar, transformar y diseñar un **modelo estrella**, culminando con la **visualización de los datos en un dashboard interactivo**."
   ]
  },
  {
   "cell_type": "markdown",
   "id": "a312c654",
   "metadata": {},
   "source": [
    "Recolección de los datos de Tocumen Enero 2025\n",
    "- export.csv from https://meteostat.net/es/station/78792?t=2025-01-01/2025-01-31\n",
    "- webscraping from https://www.imhpa.gob.pa/es/datos-diarios?estacion=1&mes=1&ano=2025\n",
    "- XML\n",
    "- JSON"
   ]
  }
 ],
 "metadata": {
  "kernelspec": {
   "display_name": "Python 3",
   "language": "python",
   "name": "python3"
  },
  "language_info": {
   "codemirror_mode": {
    "name": "ipython",
    "version": 3
   },
   "file_extension": ".py",
   "mimetype": "text/x-python",
   "name": "python",
   "nbconvert_exporter": "python",
   "pygments_lexer": "ipython3",
   "version": "3.13.3"
  }
 },
 "nbformat": 4,
 "nbformat_minor": 5
}
