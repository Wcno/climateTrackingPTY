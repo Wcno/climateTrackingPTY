{
 "cells": [
  {
   "cell_type": "code",
   "execution_count": 21,
   "id": "c57231ba-2b03-4bb9-ad60-dc040c6eb1ea",
   "metadata": {},
   "outputs": [],
   "source": [
    "import pandas as pd\n",
    "import json\n",
    "import numpy as np"
   ]
  },
  {
   "cell_type": "code",
   "execution_count": 22,
   "id": "0e6a6ae3-22fa-4bdb-aad8-b3cbd37e3b8a",
   "metadata": {},
   "outputs": [],
   "source": [
    "#De Json a dataframe\n",
    "data = pd.read_json(\"datos_crudos/datos_bocas_del_toro_crudos_2024.json\")\n",
    "\n",
    "#Eliminar columnas\n",
    "df = pd.DataFrame(data)\n",
    "df.drop(['snow', 'pres', 'tsun', 'wpgt'], axis='columns', inplace=True)\n"
   ]
  },
  {
   "cell_type": "code",
   "execution_count": 23,
   "id": "349f25a2-24e6-4647-a6cd-08b175ecf6bb",
   "metadata": {},
   "outputs": [
    {
     "name": "stdout",
     "output_type": "stream",
     "text": [
      "time     object\n",
      "tavg    float64\n",
      "tmin    float64\n",
      "tmax    float64\n",
      "prcp    float64\n",
      "wdir    float64\n",
      "wspd    float64\n",
      "dtype: object\n"
     ]
    }
   ],
   "source": [
    "print(df.dtypes)"
   ]
  },
  {
   "cell_type": "code",
   "execution_count": null,
   "id": "d67daa8a-a83e-4d6f-9a76-bd52c43b2b33",
   "metadata": {},
   "outputs": [],
   "source": [
    "\n"
   ]
  },
  {
   "cell_type": "code",
   "execution_count": 24,
   "id": "226c0c9c-d734-4eab-824b-a2b90e927a8d",
   "metadata": {},
   "outputs": [],
   "source": [
    "#Limpieza de datos\n",
    "df_bocas_del_toro = df.drop(columns=[\"Día\",\"Año\", \"Mes\"], errors='ignore')\n",
    "df_bocas_del_toro.replace([\"\", \"-\", \"NA\", \"N/A\", \"n/a\"], np.nan, inplace=True)\n",
    "# Convertir la columna Date a datetime y dejar solo año-mes-día\n",
    "df_bocas_del_toro[\"time\"] = pd.to_datetime(df_bocas_del_toro[\"time\"], errors=\"coerce\").dt.strftime(\"%Y-%m-%d\")"
   ]
  },
  {
   "cell_type": "code",
   "execution_count": 25,
   "id": "dce8e53a-334e-4c3b-986a-03f77d01bb73",
   "metadata": {},
   "outputs": [
    {
     "name": "stdout",
     "output_type": "stream",
     "text": [
      "Valores faltantes por columna:\n",
      "tavg     12\n",
      "tmin     12\n",
      "tmax     12\n",
      "prcp     12\n",
      "wdir    366\n",
      "wspd     12\n",
      "dtype: int64\n",
      "\n",
      "Porcentaje de valores faltantes:\n",
      "tavg      3.28\n",
      "tmin      3.28\n",
      "tmax      3.28\n",
      "prcp      3.28\n",
      "wdir    100.00\n",
      "wspd      3.28\n",
      "dtype: float64\n"
     ]
    }
   ],
   "source": [
    "# Porcentaje de valores faltantes\n",
    "faltantes = df_bocas_del_toro.isna().sum()\n",
    "print(\"Valores faltantes por columna:\")\n",
    "print(faltantes[faltantes > 0])\n",
    "porcentaje_faltantes = (df_bocas_del_toro.isna().sum() / len(df_bocas_del_toro)) * 100\n",
    "print(\"\\nPorcentaje de valores faltantes:\")\n",
    "print(porcentaje_faltantes[porcentaje_faltantes > 0].round(2))"
   ]
  },
  {
   "cell_type": "code",
   "execution_count": 26,
   "id": "ac277136-ba90-4913-8a1a-ab9a33e83332",
   "metadata": {},
   "outputs": [],
   "source": [
    "#Limpieza de las columnas\n",
    "for col in df_bocas_del_toro:\n",
    "    if col != 'time':  # Evitar convertir la columna de fechas\n",
    "        df_bocas_del_toro[col] = pd.to_numeric(df_bocas_del_toro[col], errors='coerce')\n",
    "\n",
    "# Imputar temperaturas con la media\n",
    "for col in [\"tmax\", \"tmin\", \"tavg\"]:\n",
    "    df_bocas_del_toro[col] = df_bocas_del_toro[col].fillna(df_bocas_del_toro[col].mean())\n",
    "\n",
    "# Imputar precipitaciones con 0 = no llovió)\n",
    "for col in [\"prcp\"]:\n",
    "    df_bocas_del_toro[col] = df_bocas_del_toro[col].fillna(0)\n",
    "\n",
    "# Imputar viento con la media \n",
    "for col in [\"wspd\"]:\n",
    "    df_bocas_del_toro[col] = df_bocas_del_toro[col].fillna(df_bocas_del_toro[col].mean())\n",
    "\n",
    "# Imputar texto faltante con la moda (valor más frecuente)\n",
    "for col in [\"wdir\"]:\n",
    "    if df_bocas_del_toro[col].isna().sum() > 0:\n",
    "        moda = df_bocas_del_toro[col].mode()\n",
    "        if not moda.empty:\n",
    "            df_bocas_del_toro[col] = df_bocas_del_toro[col].fillna(moda[0])\n",
    "\n",
    "columnas_numericas = df_bocas_del_toro.select_dtypes(include=[\"number\"]).columns\n",
    "df_bocas_del_toro[columnas_numericas] = df_bocas_del_toro[columnas_numericas].round(1)"
   ]
  },
  {
   "cell_type": "code",
   "execution_count": 27,
   "id": "313000d6-dc7a-4acc-8678-6bd987d6195b",
   "metadata": {},
   "outputs": [],
   "source": [
    "#Cambiar el nombre de las columnas y agregar dos adicionales\n",
    "columnas_estandar= {\n",
    "    'time': 'Date',\n",
    "    'tmax': 'Tmax',\n",
    "    'tmin': 'Tmin',\n",
    "    'tavg': 'Tavg',\n",
    "    'prcp': 'Prcp',\n",
    "    'wspd': 'Wspd',\n",
    "    'wdir': 'Wdir'\n",
    "}\n",
    "\n",
    "# Renombrar columnas y eliminar las demás\n",
    "df_bocas_del_toro= df_bocas_del_toro.rename(columns=columnas_estandar)  \n",
    "df_bocas_del_toro = df_bocas_del_toro[list(columnas_estandar.values())] \n",
    "df_bocas_del_toro[\"Estacion\"] = \"La Cabaña\"\n",
    "df_bocas_del_toro[\"Provincia\"] = \"Bocas del Toro\""
   ]
  },
  {
   "cell_type": "code",
   "execution_count": 28,
   "id": "c840a4d4-7c70-44f6-9967-4da803d12747",
   "metadata": {},
   "outputs": [
    {
     "name": "stdout",
     "output_type": "stream",
     "text": [
      "           Date  Tmax  Tmin  Tavg  Prcp  Wspd  Wdir   Estacion       Provincia\n",
      "0    2024-01-01  30.0  24.0  25.7   8.2  15.5   NaN  La Cabaña  Bocas del Toro\n",
      "1    2024-01-02  30.0  23.0  26.1   1.2  16.0   NaN  La Cabaña  Bocas del Toro\n",
      "2    2024-01-03  29.0  23.1  25.9   1.1  10.2   NaN  La Cabaña  Bocas del Toro\n",
      "3    2024-01-04  29.2  23.8  25.8   2.3  12.6   NaN  La Cabaña  Bocas del Toro\n",
      "4    2024-01-05  29.5  22.9  25.7   1.7  10.0   NaN  La Cabaña  Bocas del Toro\n",
      "..          ...   ...   ...   ...   ...   ...   ...        ...             ...\n",
      "361  2024-12-27  28.0  23.2  25.5   1.9  10.6   NaN  La Cabaña  Bocas del Toro\n",
      "362  2024-12-28  28.6  23.6  25.9   1.4   9.4   NaN  La Cabaña  Bocas del Toro\n",
      "363  2024-12-29  26.0  23.5  24.8  22.1   8.6   NaN  La Cabaña  Bocas del Toro\n",
      "364  2024-12-30  28.0  23.0  25.0  19.2  10.0   NaN  La Cabaña  Bocas del Toro\n",
      "365  2024-12-31  27.9  23.0  24.9   6.9  11.9   NaN  La Cabaña  Bocas del Toro\n",
      "\n",
      "[366 rows x 9 columns]\n"
     ]
    }
   ],
   "source": [
    "print(df_bocas_del_toro)\n",
    "\n"
   ]
  },
  {
   "cell_type": "code",
   "execution_count": 30,
   "id": "6fc8f28b-df07-45c3-8ff0-4b3379b8ff29",
   "metadata": {},
   "outputs": [],
   "source": [
    "#Pasar a CSV\n",
    "df_bocas_del_toro.to_csv(\"datos_limpios/datos_limpios_bocas_del_toro_202444.csv\", index=False)"
   ]
  }
 ],
 "metadata": {
  "kernelspec": {
   "display_name": "Python 3",
   "language": "python",
   "name": "python3"
  },
  "language_info": {
   "codemirror_mode": {
    "name": "ipython",
    "version": 3
   },
   "file_extension": ".py",
   "mimetype": "text/x-python",
   "name": "python",
   "nbconvert_exporter": "python",
   "pygments_lexer": "ipython3",
   "version": "3.13.3"
  }
 },
 "nbformat": 4,
 "nbformat_minor": 5
}
