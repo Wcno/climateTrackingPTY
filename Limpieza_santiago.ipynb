{
 "cells": [
  {
   "cell_type": "code",
   "execution_count": 2,
   "id": "a33d9f0b-c19e-4003-ae34-fa48d16167a5",
   "metadata": {},
   "outputs": [],
   "source": [
    "import pandas as pd\n",
    "import numpy as np"
   ]
  },
  {
   "cell_type": "code",
   "execution_count": 3,
   "id": "66bb571d-bf25-4558-8f8b-950cb2483144",
   "metadata": {},
   "outputs": [
    {
     "name": "stdout",
     "output_type": "stream",
     "text": [
      "Archivo XML cargado con éxito.\n",
      "                  time  tavg  tmin  tmax  prcp  snow  wdir  wspd  wpgt  \\\n",
      "0  2024-01-01 00:00:00  26.1  22.7  31.0   0.1   NaN   NaN  10.1   NaN   \n",
      "1  2024-01-02 00:00:00  26.1  22.4  31.6   0.0   NaN   NaN  10.8   NaN   \n",
      "2  2024-01-03 00:00:00  26.4  21.6  32.6   0.0   NaN   NaN   9.3   NaN   \n",
      "3  2024-01-04 00:00:00  26.2  21.7  32.4   0.2   NaN   NaN   8.6   NaN   \n",
      "4  2024-01-05 00:00:00  26.2  20.8  32.6   0.3   NaN   NaN   8.9   NaN   \n",
      "\n",
      "     pres  tsun  \n",
      "0  1011.9   NaN  \n",
      "1  1011.4   NaN  \n",
      "2  1011.0   NaN  \n",
      "3  1011.8   NaN  \n",
      "4  1011.0   NaN  \n"
     ]
    }
   ],
   "source": [
    "#De Json a dataframe\n",
    "ruta = \"datos_crudos/datos_santiago_crudos_2024.xml\"\n",
    "\n",
    "# Leer el archivo XML\n",
    "try:\n",
    "    df = pd.read_xml(ruta)\n",
    "    print(\"Archivo XML cargado con éxito.\")\n",
    "    print(df.head())\n",
    "    \n",
    "except Exception as e:\n",
    "    print(f\"Error al leer el archivo XML: {e}\")\n",
    "    \n",
    "#Eliminar columnas\n",
    "df = pd.read_xml(ruta, xpath=\".//registro\", parser=\"etree\")\n",
    "\n",
    "\n",
    "df.drop(['snow', 'pres', 'tsun', 'wpgt'], axis='columns', inplace=True)\n"
   ]
  },
  {
   "cell_type": "code",
   "execution_count": 4,
   "id": "256c2187-e3c3-47a2-98ef-7a2ef2ee590d",
   "metadata": {},
   "outputs": [
    {
     "name": "stdout",
     "output_type": "stream",
     "text": [
      "time     object\n",
      "tavg    float64\n",
      "tmin    float64\n",
      "tmax    float64\n",
      "prcp    float64\n",
      "wdir    float64\n",
      "wspd    float64\n",
      "dtype: object\n"
     ]
    }
   ],
   "source": [
    "print(df.dtypes)"
   ]
  },
  {
   "cell_type": "code",
   "execution_count": 5,
   "id": "65dd8c76-d7f0-467c-9f8b-c18ba591c6cc",
   "metadata": {},
   "outputs": [],
   "source": [
    "#Limpieza de datos\n",
    "df_santiago = df.drop(columns=[\"Día\",\"Año\", \"Mes\"], errors='ignore')\n",
    "df_santiago.replace([\"\", \"-\", \"NA\", \"N/A\", \"n/a\"], np.nan, inplace=True)\n",
    "# Convertir la columna Date a datetime y dejar solo año-mes-día\n",
    "df_santiago[\"time\"] = pd.to_datetime(df_santiago[\"time\"], errors=\"coerce\").dt.strftime(\"%Y-%m-%d\")\n"
   ]
  },
  {
   "cell_type": "code",
   "execution_count": 6,
   "id": "5585c445-f8fa-4937-b4e9-587ba79edef4",
   "metadata": {},
   "outputs": [
    {
     "name": "stdout",
     "output_type": "stream",
     "text": [
      "Valores faltantes por columna:\n",
      "tavg     13\n",
      "tmin     13\n",
      "tmax     13\n",
      "prcp     13\n",
      "wdir    366\n",
      "wspd     13\n",
      "dtype: int64\n",
      "\n",
      "Porcentaje de valores faltantes:\n",
      "tavg      3.55\n",
      "tmin      3.55\n",
      "tmax      3.55\n",
      "prcp      3.55\n",
      "wdir    100.00\n",
      "wspd      3.55\n",
      "dtype: float64\n"
     ]
    }
   ],
   "source": [
    "# Porcentaje de valores faltantes\n",
    "faltantes = df_santiago.isna().sum()\n",
    "print(\"Valores faltantes por columna:\")\n",
    "print(faltantes[faltantes > 0])\n",
    "porcentaje_faltantes = (df_santiago.isna().sum() / len(df_santiago)) * 100\n",
    "print(\"\\nPorcentaje de valores faltantes:\")\n",
    "print(porcentaje_faltantes[porcentaje_faltantes > 0].round(2))"
   ]
  },
  {
   "cell_type": "code",
   "execution_count": 7,
   "id": "ea74ec83-2462-4a89-8d65-d3d728239605",
   "metadata": {},
   "outputs": [],
   "source": [
    "#Limpieza de las columnas\n",
    "for col in df_santiago.columns:\n",
    "    if col != 'time':  # Evitar convertir la columna de fechas\n",
    "        df_santiago[col] = pd.to_numeric(df_santiago[col], errors='coerce')\n",
    "\n",
    "# Imputar temperaturas con la media\n",
    "for col in [\"tmax\", \"tmin\", \"tavg\"]:\n",
    "    df_santiago[col] = df_santiago[col].fillna(df_santiago[col].mean())\n",
    "\n",
    "# Imputar precipitaciones con 0 = no llovió)\n",
    "for col in [\"prcp\"]:\n",
    "    df_santiago[col] = df_santiago[col].fillna(0)\n",
    "\n",
    "# Imputar viento con la media \n",
    "for col in [\"wspd\"]:\n",
    "    df_santiago[col] = df_santiago[col].fillna(df_santiago[col].mean())\n",
    "\n",
    "# Imputar texto faltante con la moda (valor más frecuente)\n",
    "for col in [\"wdir\"]:\n",
    "    if df_santiago[col].isna().sum() > 0:\n",
    "        moda = df_santiago[col].mode()\n",
    "        if not moda.empty:\n",
    "            df_santiago[col] = df_santiago[col].fillna(moda[0])\n",
    "\n",
    "columnas_numericas = df_santiago.select_dtypes(include=[\"number\"]).columns\n",
    "df_santiago[columnas_numericas] = df_santiago[columnas_numericas].round(1)"
   ]
  },
  {
   "cell_type": "code",
   "execution_count": 8,
   "id": "e5e0035b-e71e-402b-b3d1-479b6f8e7d5a",
   "metadata": {},
   "outputs": [],
   "source": [
    "#Cambiar el nombre de las columnas y agregar dos adicionales\n",
    "columnas_estandar= {\n",
    "    'time': 'Date',\n",
    "    'tmax': 'Tmax',\n",
    "    'tmin': 'Tmin',\n",
    "    'tavg': 'Tavg',\n",
    "    'prcp': 'Prcp',\n",
    "    'wspd': 'Wspd',\n",
    "    'wdir': 'Wdir'\n",
    "}\n",
    "\n",
    "# Renombrar columnas y eliminar las demás\n",
    "df_santiago= df_santiago.rename(columns=columnas_estandar)  \n",
    "df_santiago = df_santiago[list(columnas_estandar.values())] \n",
    "df_santiago[\"Estacion\"] = \"Santiago\"\n",
    "df_santiago[\"Provincia\"] = \"Veraguas\""
   ]
  },
  {
   "cell_type": "code",
   "execution_count": 9,
   "id": "83ac2461-765a-4100-9966-9b7dbe52fcbc",
   "metadata": {},
   "outputs": [
    {
     "name": "stdout",
     "output_type": "stream",
     "text": [
      "           Date  Tmax  Tmin  Tavg  Prcp  Wspd  Wdir  Estacion Provincia\n",
      "0    2024-01-01  31.0  22.7  26.1   0.1  10.1   NaN  Santiago  Veraguas\n",
      "1    2024-01-02  31.6  22.4  26.1   0.0  10.8   NaN  Santiago  Veraguas\n",
      "2    2024-01-03  32.6  21.6  26.4   0.0   9.3   NaN  Santiago  Veraguas\n",
      "3    2024-01-04  32.4  21.7  26.2   0.2   8.6   NaN  Santiago  Veraguas\n",
      "4    2024-01-05  32.6  20.8  26.2   0.3   8.9   NaN  Santiago  Veraguas\n",
      "..          ...   ...   ...   ...   ...   ...   ...       ...       ...\n",
      "361  2024-12-27  27.2  22.5  24.4  12.3   7.2   NaN  Santiago  Veraguas\n",
      "362  2024-12-28  28.6  22.7  24.4   3.8   7.4   NaN  Santiago  Veraguas\n",
      "363  2024-12-29  27.8  22.3  24.2   5.2   9.6   NaN  Santiago  Veraguas\n",
      "364  2024-12-30  29.3  21.4  24.3   9.1   6.7   NaN  Santiago  Veraguas\n",
      "365  2024-12-31  28.6  21.9  24.0  17.1   5.1   NaN  Santiago  Veraguas\n",
      "\n",
      "[366 rows x 9 columns]\n"
     ]
    }
   ],
   "source": [
    "print(df_santiago)"
   ]
  },
  {
   "cell_type": "code",
   "execution_count": null,
   "id": "aecb4ae4-ec6a-4caa-8df9-e15ab5be0819",
   "metadata": {},
   "outputs": [],
   "source": [
    "#Pasar a CSV\n",
    "df_santiago.to_csv(\"datos_limpios/datos_limpios_santiago_2024.csv\", index=False)"
   ]
  }
 ],
 "metadata": {
  "kernelspec": {
   "display_name": "Python 3",
   "language": "python",
   "name": "python3"
  },
  "language_info": {
   "codemirror_mode": {
    "name": "ipython",
    "version": 3
   },
   "file_extension": ".py",
   "mimetype": "text/x-python",
   "name": "python",
   "nbconvert_exporter": "python",
   "pygments_lexer": "ipython3",
   "version": "3.13.3"
  }
 },
 "nbformat": 4,
 "nbformat_minor": 5
}
