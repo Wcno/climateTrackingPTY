{
 "cells": [
  {
   "cell_type": "code",
   "execution_count": 19,
   "id": "1c2b65ff",
   "metadata": {},
   "outputs": [],
   "source": [
    "import pandas as pd\n",
    "import numpy as np\n",
    "\n",
    "df_tocumen = pd.read_csv('../datos_limpios/datos_tocumen_2024.csv')\n",
    "\n",
    "\n",
    "\n"
   ]
  },
  {
   "cell_type": "code",
   "execution_count": 21,
   "id": "abc0c986",
   "metadata": {},
   "outputs": [],
   "source": [
    "df_tocumen.replace([\"\", \"-\", \"NA\", \"N/A\", \"n/a\"], np.nan, inplace=True)\n",
    "df_tocumen.fillna(0.0, inplace=True)"
   ]
  },
  {
   "cell_type": "code",
   "execution_count": 22,
   "id": "e5de4c0b",
   "metadata": {},
   "outputs": [
    {
     "name": "stdout",
     "output_type": "stream",
     "text": [
      "Valores faltantes por columna:\n",
      "Series([], dtype: int64)\n",
      "\n",
      "Porcentaje de valores faltantes:\n",
      "Series([], dtype: float64)\n"
     ]
    }
   ],
   "source": [
    "# Porcentaje de valores faltantes\n",
    "faltantes = df_tocumen.isna().sum()\n",
    "print(\"Valores faltantes por columna:\")\n",
    "print(faltantes[faltantes > 0])\n",
    "porcentaje_faltantes = (df_tocumen.isna().sum() / len(df_tocumen)) * 100\n",
    "print(\"\\nPorcentaje de valores faltantes:\")\n",
    "print(porcentaje_faltantes[porcentaje_faltantes > 0].round(2))"
   ]
  },
  {
   "cell_type": "code",
   "execution_count": 23,
   "id": "0f7695d7",
   "metadata": {},
   "outputs": [],
   "source": [
    "df_tocumen.to_csv('../datos_limpios/datos_limpios_tocumen_2024.csv', index=False)"
   ]
  },
  {
   "cell_type": "code",
   "execution_count": 25,
   "id": "adfcc7dc",
   "metadata": {},
   "outputs": [],
   "source": [
    "def analizar_limpieaza(df):\n",
    "    faltantes = df.isna().sum()\n",
    "    porcentaje_faltantes = (faltantes / len(df)) * 100\n",
    "\n",
    "    print(f\"\\nValores faltantes por columna en el Dataframe:\")\n",
    "    print(faltantes[faltantes > 0])\n",
    "\n",
    "    print(f\"\\nPorcentaje de valores faltantes en el Dataframe:\")\n",
    "    print(porcentaje_faltantes[porcentaje_faltantes > 0].round(2))\n"
   ]
  },
  {
   "cell_type": "code",
   "execution_count": 17,
   "id": "8b6fe0e2",
   "metadata": {},
   "outputs": [],
   "source": [
    "df_santiago = pd.read_csv('../datos_limpios/datos_limpios_santiago_2024.csv')"
   ]
  },
  {
   "cell_type": "code",
   "execution_count": null,
   "id": "456b53cf",
   "metadata": {},
   "outputs": [
    {
     "ename": "NameError",
     "evalue": "name 'analizar_limpieza' is not defined",
     "output_type": "error",
     "traceback": [
      "\u001b[31m---------------------------------------------------------------------------\u001b[39m",
      "\u001b[31mNameError\u001b[39m                                 Traceback (most recent call last)",
      "\u001b[36mCell\u001b[39m\u001b[36m \u001b[39m\u001b[32mIn[19]\u001b[39m\u001b[32m, line 1\u001b[39m\n\u001b[32m----> \u001b[39m\u001b[32m1\u001b[39m \u001b[43manalizar_limpieza\u001b[49m(df_santiago)\n",
      "\u001b[31mNameError\u001b[39m: name 'analizar_limpieza' is not defined"
     ]
    }
   ],
   "source": [
    "analizar_limpieaza(df_santiago)"
   ]
  },
  {
   "cell_type": "code",
   "execution_count": 4,
   "id": "7e9df17e",
   "metadata": {},
   "outputs": [],
   "source": [
    "import numpy as np\n",
    "\n",
    "# Reemplazar valores faltantes representados como texto\n",
    "df_santiago.replace([\"\", \"-\", \"NA\", \"N/A\", \"n/a\"], np.nan, inplace=True)\n",
    "\n",
    "# Columnas numéricas que queremos convertir y limpiar\n",
    "columnas_numericas = [\n",
    "    \"Temperatura Máxima (°C)\",\n",
    "    \"Temperatura Mínima (°C)\",\n",
    "    \"Temperatura Promedio (°C)\",\n",
    "    \"Lluvia Mes Actual (mm)\",\n",
    "    \"Lluvia Acumulada(mm)\",\n",
    "    \"Lluvia Promedio (mm)\",\n",
    "    \"Lluvia Acumulada Promedio Histórico (mm)\",\n",
    "    \"Viento Velocidad Máxima (Km/h)\",\n",
    "    \"Viento Dirección Máxima (°)\"\n",
    "]\n",
    "\n",
    "# Convertir columnas numéricas a tipo numérico\n",
    "for col in columnas_numericas:\n",
    "    df_santiago[col] = pd.to_numeric(df_santiago[col], errors='coerce')\n",
    "\n",
    "# Imputar temperaturas con la media\n",
    "for col in [\"Temperatura Máxima (°C)\", \"Temperatura Mínima (°C)\", \"Temperatura Promedio (°C)\"]:\n",
    "    df_santiago[col] = df_santiago[col].fillna(df_santiago[col].mean())\n",
    "\n",
    "# Imputar precipitaciones con 0 (no llovió)\n",
    "for col in [\"Lluvia Mes Actual (mm)\", \"Lluvia Acumulada(mm)\"]:\n",
    "    df_santiago[col] = df_santiago[col].fillna(0)\n",
    "\n",
    "# Imputar viento con la media\n",
    "for col in [\"Viento Velocidad Máxima (Km/h)\", \"Viento Dirección Máxima (°)\"]:\n",
    "    df_santiago[col] = df_santiago[col].fillna(df_santiago[col].mean())\n",
    "\n",
    "# Imputar texto faltante con la moda\n",
    "for col in [\"Dirección del Viento\", \"Viento Hora Máxima\"]:\n",
    "    if df_santiago[col].isna().sum() > 0:\n",
    "        moda = df_santiago[col].mode()\n",
    "        if not moda.empty:\n",
    "            df_santiago[col] = df_santiago[col].fillna(moda[0])\n",
    "\n",
    "# Redondear columnas numéricas a 1 decimal\n",
    "columnas_numericas = df_santiago.select_dtypes(include=[\"number\"]).columns\n",
    "df_santiago[columnas_numericas] = df_santiago[columnas_numericas].round(1)\n"
   ]
  },
  {
   "cell_type": "code",
   "execution_count": 5,
   "id": "08fb1838",
   "metadata": {},
   "outputs": [],
   "source": [
    "import pandas as pd\n",
    "\n",
    "columnas_estandar= {\n",
    "    'Fecha': 'Date',\n",
    "    'Temperatura Máxima (°C)': 'Tmax',\n",
    "    'Temperatura Mínima (°C)': 'Tmin',\n",
    "    'Temperatura Promedio (°C)': 'Tavg',\n",
    "    'Lluvia Mes Actual (mm)': 'Prcp',\n",
    "    'Viento Velocidad Máxima (Km/h)': 'Wspd',\n",
    "    'Dirección del Viento': 'Wdir'\n",
    "}\n",
    "\n",
    "# Renombrar columnas y eliminar las demás\n",
    "df_santiago= df_santiago.rename(columns=columnas_estandar)  \n",
    "df_santiago = df_santiago[list(columnas_estandar.values())] \n",
    "\n"
   ]
  },
  {
   "cell_type": "code",
   "execution_count": 6,
   "id": "aaea1674",
   "metadata": {},
   "outputs": [
    {
     "name": "stdout",
     "output_type": "stream",
     "text": [
      "        Date  Tmax  Tmin  Tavg  Prcp  Wspd          Wdir\n",
      "0 2024-01-01  32.8  22.4  27.6   0.0  25.9  Nor-Noroeste\n",
      "1 2024-01-02  32.8  22.4  27.6   0.0  25.9  Nor-Noroeste\n",
      "2 2024-01-03  34.4  23.0  28.7   0.0  43.2         Norte\n",
      "3 2024-01-04  34.4  21.0  27.7   0.0   0.0         Calmo\n",
      "4 2024-01-05  34.2  21.2  27.7   0.0  28.8         Norte\n"
     ]
    }
   ],
   "source": [
    "print(df_santiago.head())"
   ]
  },
  {
   "cell_type": "code",
   "execution_count": 7,
   "id": "9d99f6e1",
   "metadata": {},
   "outputs": [],
   "source": [
    "# Guardar el DataFrame limpio\n",
    "df_santiago.to_csv('santiago_con_wdir.csv', index=False)"
   ]
  },
  {
   "cell_type": "code",
   "execution_count": 10,
   "id": "65fd0e86",
   "metadata": {},
   "outputs": [],
   "source": [
    "import pandas as pd\n",
    "df_base = pd.read_csv('../datos_limpios/datos_limpios_santiago_2024.csv')"
   ]
  },
  {
   "cell_type": "code",
   "execution_count": 11,
   "id": "f937000c",
   "metadata": {},
   "outputs": [],
   "source": [
    "import pandas as pd\n",
    "\n",
    "# Cargar los CSV\n",
    "\n",
    "df_origen = pd.read_csv(\"santiago_con_wdir.csv\") \n",
    "\n",
    "\n",
    "df_origen_filtrado = df_origen[[\"Date\", \"Wdir\"]]\n",
    "df_actualizado = df_base.drop(columns=[\"Wdir\"]).merge(df_origen_filtrado, on=\"Date\", how=\"left\")\n",
    "\n",
    "df_actualizado.to_csv(\"datos_limpios_santiago_2024.csv\", index=False)\n"
   ]
  },
  {
   "cell_type": "code",
   "execution_count": 12,
   "id": "c1b7204f",
   "metadata": {},
   "outputs": [],
   "source": [
    "df_orden = pd.read_csv('../datos_limpios/datos_limpios_santiago_2024.csv')\n",
    "df_orden = df_orden.drop(columns=[\"Estacion\",\"Provincia\"], errors='ignore')\n",
    "\n",
    "df_orden[\"Estacion\"] = \"Santiago\"\n",
    "df_orden[\"Provincia\"] = \"Veraguas\""
   ]
  },
  {
   "cell_type": "code",
   "execution_count": 13,
   "id": "491a3e92",
   "metadata": {},
   "outputs": [
    {
     "name": "stdout",
     "output_type": "stream",
     "text": [
      "         Date  Tmax  Tmin  Tavg  Prcp  Wspd          Wdir  Estacion Provincia\n",
      "0  2024-01-01  31.0  22.7  26.1   0.1  10.1  Nor-Noroeste  Santiago  Veraguas\n",
      "1  2024-01-02  31.6  22.4  26.1   0.0  10.8  Nor-Noroeste  Santiago  Veraguas\n",
      "2  2024-01-03  32.6  21.6  26.4   0.0   9.3         Norte  Santiago  Veraguas\n",
      "3  2024-01-04  32.4  21.7  26.2   0.2   8.6         Calmo  Santiago  Veraguas\n",
      "4  2024-01-05  32.6  20.8  26.2   0.3   8.9         Norte  Santiago  Veraguas\n"
     ]
    }
   ],
   "source": [
    "print(df_orden.head())"
   ]
  },
  {
   "cell_type": "code",
   "execution_count": 14,
   "id": "a903183c",
   "metadata": {},
   "outputs": [],
   "source": [
    "df_orden.to_csv('../datos_limpios/datos_limpios_santiago_2024.csv', index=False)"
   ]
  }
 ],
 "metadata": {
  "kernelspec": {
   "display_name": "Python 3",
   "language": "python",
   "name": "python3"
  },
  "language_info": {
   "codemirror_mode": {
    "name": "ipython",
    "version": 3
   },
   "file_extension": ".py",
   "mimetype": "text/x-python",
   "name": "python",
   "nbconvert_exporter": "python",
   "pygments_lexer": "ipython3",
   "version": "3.13.3"
  }
 },
 "nbformat": 4,
 "nbformat_minor": 5
}
